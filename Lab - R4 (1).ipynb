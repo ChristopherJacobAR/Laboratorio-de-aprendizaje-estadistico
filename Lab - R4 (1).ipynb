{
 "cells": [
  {
   "cell_type": "markdown",
   "id": "2e2753e4-9dc7-41d7-b080-d1abfbb16b28",
   "metadata": {},
   "source": [
    "# Laboratorio de regresión - 4"
   ]
  },
  {
   "cell_type": "markdown",
   "id": "c396ea70-b88c-4346-a14f-4aa7ca2e1b00",
   "metadata": {},
   "source": [
    "\n",
    "<table style=\"width: 70%; margin: 20px auto; border-collapse: collapse; font-family: 'Segoe UI', Tahoma, Geneva, Verdana, sans-serif; box-shadow: 0 2px 8px rgba(0, 0, 0, 0.2);\">\n",
    "  <thead>\n",
    "    <tr style=\"background: linear-gradient(90deg, #0F2027, #203A43, #2C5364); color: #ffffff; text-transform: uppercase;\">\n",
    "      <th style=\"padding: 12px 20px; border: 1px solid #ddd;\">Nombre del Alumno</th>\n",
    "      <th style=\"padding: 12px 20px; border: 1px solid #ddd;\">Expediente</th>\n",
    "      <th style=\"padding: 12px 20px; border: 1px solid #ddd;\">Fecha</th>\n",
    "    </tr>\n",
    "  </thead>\n",
    "  <tbody>\n",
    "    <tr>\n",
    "      <td style=\"padding: 12px 20px; border: 1px solid #ddd; text-align: center;\">Christopher Jacob Ahumada Robles</td>\n",
    "      <td style=\"padding: 12px 20px; border: 1px solid #ddd; text-align: center;\">748077</td>\n",
    "      <td style=\"padding: 12px 20px; border: 1px solid #ddd; text-align: center;\">13/02/2025</td>\n",
    "    </tr>\n",
    "  </tbody>\n",
    "</table>\n",
    " |   |"
   ]
  },
  {
   "cell_type": "markdown",
   "id": "77def53e-10bf-474e-acdf-728e07bef102",
   "metadata": {},
   "source": [
    "## Modelos penalizados"
   ]
  },
  {
   "cell_type": "markdown",
   "id": "d9bb791d-1843-4b4d-bd8b-69e6419511e8",
   "metadata": {},
   "source": [
    "Hasta ahora la función de costo que usamos para decidir qué tan bueno es nuestro modelo al momento de ajustar es:\n",
    "\n",
    "$$ \\text{RSS} = \\sum_{i=1}^n e_i^2 = \\sum_{i=1}^n (y_i - \\hat{y_i})^2 $$"
   ]
  },
  {
   "cell_type": "markdown",
   "id": "4e6b5e6b-abe9-4b75-b045-e4444de4fc35",
   "metadata": {},
   "source": [
    "Dado que los errores obtenidos son una combinación de sesgo y varianza, puede ser que se sesgue un parámetro para minimizar el error. Esto significa que el modelo puede decidir que la salida no sea una combinación de los factores, sino una fuerte predilección sobre uno de los factores solamente. "
   ]
  },
  {
   "cell_type": "markdown",
   "id": "84901f9e-5551-455a-a70c-c7e39d9e55ae",
   "metadata": {},
   "source": [
    "E.g. se quiere ajustar un modelo\n",
    "\n",
    "$$ \\hat{z} = \\hat{\\beta_0} + \\hat{\\beta_1} x + \\hat{\\beta_2} y $$"
   ]
  },
  {
   "cell_type": "markdown",
   "id": "d6f473fc-6364-4b15-9bd4-f21a94cae151",
   "metadata": {},
   "source": [
    "Se ajusta el modelo y se decide que la mejor decisión es $\\hat{\\beta_1} = 10000$ y $\\hat{\\beta_2}=50$. Considera limitaciones de problemas reales:\n",
    "- Quizás los parámetros son ajustes de maquinaria que se deben realizar para conseguir el mejor producto posible, y que $10000$ sea imposible de asignar.\n",
    "- Quizás los datos actuales están sesgados y sólo hacen parecer que uno de los factores importa más que el otro."
   ]
  },
  {
   "cell_type": "markdown",
   "id": "ff32fbaa-7965-42c1-9b73-3640414b77f2",
   "metadata": {},
   "source": [
    "Una de las formas en las que se puede mitigar este problema es penalizando a los parámetros del modelo, cambiando la función de costo:"
   ]
  },
  {
   "cell_type": "markdown",
   "id": "3fc78736-9d8e-4e8b-94f3-6647bdaeb0d1",
   "metadata": {},
   "source": [
    "$$ \\text{RSS}_{L2} = \\sum_{i=1}^n e_i^2  + \\lambda \\sum_{j=1}^p \\hat{\\beta_j}^2 $$"
   ]
  },
  {
   "cell_type": "markdown",
   "id": "2d942bf5-fb39-44a0-b612-4ec05ab99b71",
   "metadata": {},
   "source": [
    "El *L2* significa que se está agregando una penalización de segundo orden. Lo que hace esta penalización es que los factores ahora sólo tendrán permitido crecer si hay una reducción al menos proporcional en el error (sacrificamos sesgo, pero reducimos la varianza)."
   ]
  },
  {
   "cell_type": "markdown",
   "id": "45c0cafb-c152-48e4-a345-bb5348eb16c7",
   "metadata": {},
   "source": [
    "Asimismo, existe la penalización *L1*"
   ]
  },
  {
   "cell_type": "markdown",
   "id": "9d9f2d93-d151-47ed-834f-4a7e91e94286",
   "metadata": {},
   "source": [
    "$$ \\text{RSS}_{L1} = \\sum_{i=1}^n e_i^2  + \\lambda \\sum_{j=1}^p |\\hat{\\beta_j}| $$"
   ]
  },
  {
   "cell_type": "markdown",
   "id": "ea95f232-25ab-4b4c-99b3-075a18878d95",
   "metadata": {},
   "source": [
    "A las penalizaciones *L2* y *L1* se les conoce también como Ridge y Lasso, respectivamente."
   ]
  },
  {
   "cell_type": "markdown",
   "id": "e41dfafb-fd1f-475a-a718-dec1e3773326",
   "metadata": {},
   "source": [
    "Para realizar una regresión con penalización de Ridge o de Lasso usamos el objeto `Ridge(alpha=?)` o `Lasso(alpha=?)` en lugar de `LinearRegression()` de `sklearn`."
   ]
  },
  {
   "cell_type": "markdown",
   "id": "ce36cb41-005e-4cb0-b8ab-92e6ae6c4c19",
   "metadata": {},
   "source": [
    "Utiliza el dataset de publicidad (Advertising.csv) y realiza 3 regresiones múltiples:\n",
    "\n",
    "$$ \\text{sales} = \\beta_0 + \\beta_1 (\\text{TV}) + \\beta_2 (\\text{radio}) + \\beta_3 (\\text{newspaper}) + \\epsilon $$"
   ]
  },
  {
   "cell_type": "markdown",
   "id": "d92e4008-ada1-4e82-9756-23fd357821d2",
   "metadata": {},
   "source": [
    "1. Sin penalización\n",
    "2. Con penalización L2\n",
    "3. Con penalización L1\n",
    "\n",
    "Compara los resultados de los parámetros y sus *p-values*, y los $R^2$ resultantes."
   ]
  },
  {
   "cell_type": "markdown",
   "id": "476c431c-0d79-4666-a82a-9b7909930fbd",
   "metadata": {},
   "source": [
    "## Importamos librerias "
   ]
  },
  {
   "cell_type": "code",
   "execution_count": 23,
   "id": "c28f33cf-4dba-4378-877b-3cc2ec2d8c5a",
   "metadata": {},
   "outputs": [],
   "source": [
    "import pandas as pd\n",
    "import numpy as np\n",
    "import matplotlib.pyplot as plt\n",
    "import statsmodels.api as sm\n",
    "from sklearn.preprocessing import MinMaxScaler\n",
    "from sklearn.linear_model import Ridge, Lasso, LinearRegression\n",
    "from sklearn.metrics import mean_squared_error, r2_score"
   ]
  },
  {
   "cell_type": "code",
   "execution_count": 24,
   "id": "489b6c52-9025-4ca7-8e96-ca70c294cf7c",
   "metadata": {},
   "outputs": [],
   "source": [
    "import matplotlib.pyplot as plt\n",
    "%matplotlib inline "
   ]
  },
  {
   "cell_type": "markdown",
   "id": "9ef693b3-056c-4dd6-8ed7-cda4f510412d",
   "metadata": {},
   "source": [
    "## Obtenemos muestra con la que vamos a trabajar"
   ]
  },
  {
   "cell_type": "code",
   "execution_count": 26,
   "id": "6f859166-06cf-478e-89d7-e6e5c2cb5ff0",
   "metadata": {},
   "outputs": [
    {
     "name": "stdout",
     "output_type": "stream",
     "text": [
      "<class 'pandas.core.frame.DataFrame'>\n",
      "Index: 200 entries, 1 to 200\n",
      "Data columns (total 4 columns):\n",
      " #   Column     Non-Null Count  Dtype  \n",
      "---  ------     --------------  -----  \n",
      " 0   TV         200 non-null    float64\n",
      " 1   radio      200 non-null    float64\n",
      " 2   newspaper  200 non-null    float64\n",
      " 3   sales      200 non-null    float64\n",
      "dtypes: float64(4)\n",
      "memory usage: 7.8 KB\n"
     ]
    },
    {
     "data": {
      "text/plain": [
       "(None,\n",
       "                TV       radio   newspaper       sales\n",
       " count  200.000000  200.000000  200.000000  200.000000\n",
       " mean   147.042500   23.264000   30.554000   14.022500\n",
       " std     85.854236   14.846809   21.778621    5.217457\n",
       " min      0.700000    0.000000    0.300000    1.600000\n",
       " 25%     74.375000    9.975000   12.750000   10.375000\n",
       " 50%    149.750000   22.900000   25.750000   12.900000\n",
       " 75%    218.825000   36.525000   45.100000   17.400000\n",
       " max    296.400000   49.600000  114.000000   27.000000)"
      ]
     },
     "execution_count": 26,
     "metadata": {},
     "output_type": "execute_result"
    }
   ],
   "source": [
    "df=pd.read_csv(\"Advertising.csv\")\n",
    "df=df.set_index(\"Unnamed: 0\")  #Hacemos indice a columna innecesaria\n",
    "df.info(), df.describe() #Exploramos las caracteristicas "
   ]
  },
  {
   "cell_type": "markdown",
   "id": "bb2a3900-18a0-4e5e-927f-d264fc006b1c",
   "metadata": {},
   "source": [
    "## Definimos nuestras variables y creamos la matriz X"
   ]
  },
  {
   "cell_type": "code",
   "execution_count": 31,
   "id": "53efacc6-e600-4705-b180-3d297324a244",
   "metadata": {},
   "outputs": [],
   "source": [
    "# Definir X (variables independientes) y y (variable dependiente)\n",
    "x_TV=np.reshape(df[\"TV\"],[-1,1])\n",
    "x_R=np.reshape(df[\"radio\"],[-1,1])\n",
    "x_N=np.reshape(df[\"newspaper\"],[-1,1])\n",
    "y = df[\"sales\"].values.reshape(-1, 1)\n",
    "# Columna de unos para b0\n",
    "ones=np.ones([len(y),1])\n",
    "# Matriz X\n",
    "X=np.hstack((ones,x_TV,x_R,x_N))"
   ]
  },
  {
   "cell_type": "markdown",
   "id": "8af7066f-7fb5-493a-bdd6-597eb4403796",
   "metadata": {},
   "source": [
    "## Escalamos los datos con min-max para poder tener comparaciones e insigths no solo 1:1 si no entre caracteristicas de X"
   ]
  },
  {
   "cell_type": "code",
   "execution_count": 34,
   "id": "f901219e-f44a-4d81-bf0d-4a3117e96b90",
   "metadata": {},
   "outputs": [],
   "source": [
    "escala = MinMaxScaler()\n",
    "X_esc = escala.fit_transform(X)"
   ]
  },
  {
   "cell_type": "markdown",
   "id": "5d30f6d9-248f-4522-9560-4337bc98ca48",
   "metadata": {},
   "source": [
    "## Regresion lineal multiple sin penalizacion"
   ]
  },
  {
   "cell_type": "code",
   "execution_count": 37,
   "id": "14f31feb-3ea0-4b8f-94d0-0e040d9ee974",
   "metadata": {},
   "outputs": [
    {
     "name": "stdout",
     "output_type": "stream",
     "text": [
      "                                 OLS Regression Results                                \n",
      "=======================================================================================\n",
      "Dep. Variable:                      y   R-squared (uncentered):                   0.982\n",
      "Model:                            OLS   Adj. R-squared (uncentered):              0.981\n",
      "Method:                 Least Squares   F-statistic:                              3533.\n",
      "Date:                Thu, 13 Feb 2025   Prob (F-statistic):                   5.96e-171\n",
      "Time:                        10:19:59   Log-Likelihood:                         -424.45\n",
      "No. Observations:                 200   AIC:                                      854.9\n",
      "Df Residuals:                     197   BIC:                                      864.8\n",
      "Df Model:                           3                                                  \n",
      "Covariance Type:            nonrobust                                                  \n",
      "==============================================================================\n",
      "                 coef    std err          t      P>|t|      [0.025      0.975]\n",
      "------------------------------------------------------------------------------\n",
      "const               0          0        nan        nan           0           0\n",
      "x1            15.9383      0.395     40.379      0.000      15.160      16.717\n",
      "x2            11.0618      0.468     23.615      0.000      10.138      11.986\n",
      "x3             1.9139      0.764      2.504      0.013       0.407       3.421\n",
      "==============================================================================\n",
      "Omnibus:                        5.565   Durbin-Watson:                   2.036\n",
      "Prob(Omnibus):                  0.062   Jarque-Bera (JB):                6.489\n",
      "Skew:                          -0.214   Prob(JB):                       0.0390\n",
      "Kurtosis:                       3.771   Cond. No.                          inf\n",
      "==============================================================================\n",
      "\n",
      "Notes:\n",
      "[1] R² is computed without centering (uncentered) since the model does not contain a constant.\n",
      "[2] Standard Errors assume that the covariance matrix of the errors is correctly specified.\n",
      "[3] The smallest eigenvalue is      0. This might indicate that there are\n",
      "strong multicollinearity problems or that the design matrix is singular.\n",
      "RSS de Regresión Lineal: 2493776.7139\n",
      "R² de Regresión Lineal: 0.9818\n"
     ]
    },
    {
     "name": "stderr",
     "output_type": "stream",
     "text": [
      "C:\\Users\\chris\\anaconda3\\Lib\\site-packages\\statsmodels\\regression\\linear_model.py:1967: RuntimeWarning: divide by zero encountered in scalar divide\n",
      "  return np.sqrt(eigvals[0]/eigvals[-1])\n"
     ]
    }
   ],
   "source": [
    "model_ols = sm.OLS(y, X_esc).fit()\n",
    "print(model_ols.summary())\n",
    "RSS_lr = np.sum((y - model_ols.fittedvalues) ** 2)\n",
    "r2_lr = model_ols.rsquared\n",
    "print(f\"RSS de Regresión Lineal: {RSS_lr:.4f}\")\n",
    "print(f\"R² de Regresión Lineal: {r2_lr:.4f}\")"
   ]
  },
  {
   "cell_type": "code",
   "execution_count": 43,
   "id": "625087c2-ea82-4bc8-8f80-d42d7711fb4e",
   "metadata": {},
   "outputs": [
    {
     "name": "stdout",
     "output_type": "stream",
     "text": [
      "RSS de Ridge: 570.9500\n",
      "R² de Ridge: 0.8946\n"
     ]
    }
   ],
   "source": [
    "ridge = Ridge(alpha=1.0)\n",
    "ridge.fit(X_esc, y)\n",
    "\n",
    "y_pred_ridge = ridge.predict(X_esc)\n",
    "RSS_ridge = np.sum((y - y_pred_ridge) ** 2)\n",
    "r2_ridge = r2_score(y, y_pred_ridge)\n",
    "print(f\"RSS de Ridge: {RSS_ridge:.4f}\")\n",
    "print(f\"R² de Ridge: {r2_ridge:.4f}\")"
   ]
  },
  {
   "cell_type": "code",
   "execution_count": 47,
   "id": "a02faaa0-0a84-40a1-823b-396c819f063e",
   "metadata": {},
   "outputs": [
    {
     "name": "stdout",
     "output_type": "stream",
     "text": [
      "RSS de Lasso: 1881417.9600\n",
      "R² de Lasso: 0.8891\n"
     ]
    }
   ],
   "source": [
    "lasso = Lasso(alpha=0.1)\n",
    "lasso.fit(X_esc, y)\n",
    "\n",
    "y_pred_lasso = lasso.predict(X_esc)\n",
    "RSS_lasso = np.sum((y - y_pred_lasso) ** 2)\n",
    "r2_lasso = r2_score(y, y_pred_lasso)\n",
    "print(f\"RSS de Lasso: {RSS_lasso:.4f}\")\n",
    "print(f\"R² de Lasso: {r2_lasso:.4f}\")"
   ]
  },
  {
   "cell_type": "code",
   "execution_count": 51,
   "id": "3d86c270-7bcc-4eb9-8d8c-db599faf9d13",
   "metadata": {},
   "outputs": [
    {
     "ename": "AttributeError",
     "evalue": "'OLSResults' object has no attribute 'coef_'",
     "output_type": "error",
     "traceback": [
      "\u001b[1;31m---------------------------------------------------------------------------\u001b[0m",
      "\u001b[1;31mAttributeError\u001b[0m                            Traceback (most recent call last)",
      "Cell \u001b[1;32mIn[51], line 3\u001b[0m\n\u001b[0;32m      1\u001b[0m coef_df \u001b[38;5;241m=\u001b[39m pd\u001b[38;5;241m.\u001b[39mDataFrame({\n\u001b[0;32m      2\u001b[0m     \u001b[38;5;124m'\u001b[39m\u001b[38;5;124mFeature\u001b[39m\u001b[38;5;124m'\u001b[39m: [\u001b[38;5;124m'\u001b[39m\u001b[38;5;124mIntercept\u001b[39m\u001b[38;5;124m'\u001b[39m, \u001b[38;5;124m'\u001b[39m\u001b[38;5;124mTV\u001b[39m\u001b[38;5;124m'\u001b[39m, \u001b[38;5;124m'\u001b[39m\u001b[38;5;124mRadio\u001b[39m\u001b[38;5;124m'\u001b[39m, \u001b[38;5;124m'\u001b[39m\u001b[38;5;124mNewspaper\u001b[39m\u001b[38;5;124m'\u001b[39m],\n\u001b[1;32m----> 3\u001b[0m     \u001b[38;5;124m'\u001b[39m\u001b[38;5;124mLinear Regression\u001b[39m\u001b[38;5;124m'\u001b[39m: model_ols\u001b[38;5;241m.\u001b[39mcoef_[\u001b[38;5;241m0\u001b[39m],\n\u001b[0;32m      4\u001b[0m     \u001b[38;5;124m'\u001b[39m\u001b[38;5;124mRidge\u001b[39m\u001b[38;5;124m'\u001b[39m: ridge\u001b[38;5;241m.\u001b[39mcoef_[\u001b[38;5;241m0\u001b[39m],\n\u001b[0;32m      5\u001b[0m     \u001b[38;5;124m'\u001b[39m\u001b[38;5;124mLasso\u001b[39m\u001b[38;5;124m'\u001b[39m: lasso\u001b[38;5;241m.\u001b[39mcoef_\n\u001b[0;32m      6\u001b[0m })\n\u001b[0;32m      7\u001b[0m coef_df\n",
      "File \u001b[1;32m~\\anaconda3\\Lib\\site-packages\\statsmodels\\base\\wrapper.py:34\u001b[0m, in \u001b[0;36mResultsWrapper.__getattribute__\u001b[1;34m(self, attr)\u001b[0m\n\u001b[0;32m     31\u001b[0m \u001b[38;5;28;01mexcept\u001b[39;00m \u001b[38;5;167;01mAttributeError\u001b[39;00m:\n\u001b[0;32m     32\u001b[0m     \u001b[38;5;28;01mpass\u001b[39;00m\n\u001b[1;32m---> 34\u001b[0m obj \u001b[38;5;241m=\u001b[39m \u001b[38;5;28mgetattr\u001b[39m(results, attr)\n\u001b[0;32m     35\u001b[0m data \u001b[38;5;241m=\u001b[39m results\u001b[38;5;241m.\u001b[39mmodel\u001b[38;5;241m.\u001b[39mdata\n\u001b[0;32m     36\u001b[0m how \u001b[38;5;241m=\u001b[39m \u001b[38;5;28mself\u001b[39m\u001b[38;5;241m.\u001b[39m_wrap_attrs\u001b[38;5;241m.\u001b[39mget(attr)\n",
      "\u001b[1;31mAttributeError\u001b[0m: 'OLSResults' object has no attribute 'coef_'"
     ]
    }
   ],
   "source": [
    "coef_df = pd.DataFrame({\n",
    "    'Feature': ['Intercept', 'TV', 'Radio', 'Newspaper'],\n",
    "    'Linear Regression': model.coef_[0],\n",
    "    'Ridge': ridge.coef_[0],\n",
    "    'Lasso': lasso.coef_\n",
    "})\n",
    "coef_df\n",
    "\n"
   ]
  },
  {
   "cell_type": "code",
   "execution_count": 161,
   "id": "2f76335c-9a1b-4236-81ac-5f89a36039a1",
   "metadata": {},
   "outputs": [
    {
     "data": {
      "text/html": [
       "<div>\n",
       "<style scoped>\n",
       "    .dataframe tbody tr th:only-of-type {\n",
       "        vertical-align: middle;\n",
       "    }\n",
       "\n",
       "    .dataframe tbody tr th {\n",
       "        vertical-align: top;\n",
       "    }\n",
       "\n",
       "    .dataframe thead th {\n",
       "        text-align: right;\n",
       "    }\n",
       "</style>\n",
       "<table border=\"1\" class=\"dataframe\">\n",
       "  <thead>\n",
       "    <tr style=\"text-align: right;\">\n",
       "      <th></th>\n",
       "      <th>Feature</th>\n",
       "      <th>Linear Regression Coef</th>\n",
       "      <th>Linear Regression p-value</th>\n",
       "      <th>Ridge</th>\n",
       "      <th>Lasso</th>\n",
       "    </tr>\n",
       "  </thead>\n",
       "  <tbody>\n",
       "    <tr>\n",
       "      <th>0</th>\n",
       "      <td>Intercept</td>\n",
       "      <td>0.000000</td>\n",
       "      <td>NaN</td>\n",
       "      <td>0.000000</td>\n",
       "      <td>0.000000</td>\n",
       "    </tr>\n",
       "    <tr>\n",
       "      <th>1</th>\n",
       "      <td>TV</td>\n",
       "      <td>15.938339</td>\n",
       "      <td>3.100283e-97</td>\n",
       "      <td>12.787960</td>\n",
       "      <td>12.397460</td>\n",
       "    </tr>\n",
       "    <tr>\n",
       "      <th>2</th>\n",
       "      <td>Radio</td>\n",
       "      <td>11.061786</td>\n",
       "      <td>2.312767e-59</td>\n",
       "      <td>8.821560</td>\n",
       "      <td>8.263014</td>\n",
       "    </tr>\n",
       "    <tr>\n",
       "      <th>3</th>\n",
       "      <td>Newspaper</td>\n",
       "      <td>1.913924</td>\n",
       "      <td>1.308511e-02</td>\n",
       "      <td>0.210209</td>\n",
       "      <td>0.000000</td>\n",
       "    </tr>\n",
       "  </tbody>\n",
       "</table>\n",
       "</div>"
      ],
      "text/plain": [
       "     Feature  Linear Regression Coef  Linear Regression p-value      Ridge  \\\n",
       "0  Intercept                0.000000                        NaN   0.000000   \n",
       "1         TV               15.938339               3.100283e-97  12.787960   \n",
       "2      Radio               11.061786               2.312767e-59   8.821560   \n",
       "3  Newspaper                1.913924               1.308511e-02   0.210209   \n",
       "\n",
       "       Lasso  \n",
       "0   0.000000  \n",
       "1  12.397460  \n",
       "2   8.263014  \n",
       "3   0.000000  "
      ]
     },
     "execution_count": 161,
     "metadata": {},
     "output_type": "execute_result"
    }
   ],
   "source": [
    "# Crear un DataFrame para visualizar los coeficientes y p-values\n",
    "coef_df = pd.DataFrame({\n",
    "    'Feature': ['Intercept', 'TV', 'Radio', 'Newspaper'],\n",
    "    'Linear Regression Coef': model_ols.params,\n",
    "    'Linear Regression p-value': model_ols.pvalues,\n",
    "    'Ridge': ridge.coef_[0],\n",
    "    'Lasso': lasso.coef_\n",
    "})\n",
    "coef_df"
   ]
  },
  {
   "cell_type": "code",
   "execution_count": 169,
   "id": "5cb0be7f-c2b1-4bba-81cf-e85e41d69a58",
   "metadata": {},
   "outputs": [
    {
     "data": {
      "text/html": [
       "<div>\n",
       "<style scoped>\n",
       "    .dataframe tbody tr th:only-of-type {\n",
       "        vertical-align: middle;\n",
       "    }\n",
       "\n",
       "    .dataframe tbody tr th {\n",
       "        vertical-align: top;\n",
       "    }\n",
       "\n",
       "    .dataframe thead th {\n",
       "        text-align: right;\n",
       "    }\n",
       "</style>\n",
       "<table border=\"1\" class=\"dataframe\">\n",
       "  <thead>\n",
       "    <tr style=\"text-align: right;\">\n",
       "      <th></th>\n",
       "      <th>Model</th>\n",
       "      <th>RSS</th>\n",
       "      <th>R²</th>\n",
       "    </tr>\n",
       "  </thead>\n",
       "  <tbody>\n",
       "    <tr>\n",
       "      <th>0</th>\n",
       "      <td>Linear Regression</td>\n",
       "      <td>2.493777e+06</td>\n",
       "      <td>0.981753</td>\n",
       "    </tr>\n",
       "    <tr>\n",
       "      <th>1</th>\n",
       "      <td>Ridge</td>\n",
       "      <td>5.709500e+02</td>\n",
       "      <td>0.894603</td>\n",
       "    </tr>\n",
       "    <tr>\n",
       "      <th>2</th>\n",
       "      <td>Lasso</td>\n",
       "      <td>1.881418e+06</td>\n",
       "      <td>0.889095</td>\n",
       "    </tr>\n",
       "  </tbody>\n",
       "</table>\n",
       "</div>"
      ],
      "text/plain": [
       "               Model           RSS        R²\n",
       "0  Linear Regression  2.493777e+06  0.981753\n",
       "1              Ridge  5.709500e+02  0.894603\n",
       "2              Lasso  1.881418e+06  0.889095"
      ]
     },
     "execution_count": 169,
     "metadata": {},
     "output_type": "execute_result"
    }
   ],
   "source": [
    "accuracy_df = pd.DataFrame({\n",
    "    'Model': ['Linear Regression', 'Ridge', 'Lasso'],\n",
    "    'RSS': [RSS_lr, RSS_ridge, RSS_lasso],\n",
    "    'R²': [r2_lr, r2_ridge, r2_lasso]\n",
    "})\n",
    "accuracy_df"
   ]
  }
 ],
 "metadata": {
  "kernelspec": {
   "display_name": "Python [conda env:base] *",
   "language": "python",
   "name": "conda-base-py"
  },
  "language_info": {
   "codemirror_mode": {
    "name": "ipython",
    "version": 3
   },
   "file_extension": ".py",
   "mimetype": "text/x-python",
   "name": "python",
   "nbconvert_exporter": "python",
   "pygments_lexer": "ipython3",
   "version": "3.12.7"
  }
 },
 "nbformat": 4,
 "nbformat_minor": 5
}
