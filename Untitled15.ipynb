{
 "cells": [
  {
   "cell_type": "code",
   "execution_count": 1,
   "id": "fd025702-b29d-4524-ba23-a1fb8b31c44f",
   "metadata": {},
   "outputs": [],
   "source": [
    "import pandas as pd "
   ]
  },
  {
   "cell_type": "code",
   "execution_count": 3,
   "id": "ed6189a4-b773-4e52-a2e4-2ec07271b0f1",
   "metadata": {},
   "outputs": [],
   "source": [
    "df=pd.read_csv(\"Advertising.csv\")"
   ]
  },
  {
   "cell_type": "code",
   "execution_count": 5,
   "id": "a74e4276-26de-428f-8ce3-8fb313cfdd5e",
   "metadata": {},
   "outputs": [
    {
     "name": "stdout",
     "output_type": "stream",
     "text": [
      "<class 'pandas.core.frame.DataFrame'>\n",
      "RangeIndex: 200 entries, 0 to 199\n",
      "Data columns (total 5 columns):\n",
      " #   Column      Non-Null Count  Dtype  \n",
      "---  ------      --------------  -----  \n",
      " 0   Unnamed: 0  200 non-null    int64  \n",
      " 1   TV          200 non-null    float64\n",
      " 2   radio       200 non-null    float64\n",
      " 3   newspaper   200 non-null    float64\n",
      " 4   sales       200 non-null    float64\n",
      "dtypes: float64(4), int64(1)\n",
      "memory usage: 7.9 KB\n"
     ]
    }
   ],
   "source": [
    "df.info()"
   ]
  },
  {
   "cell_type": "code",
   "execution_count": 7,
   "id": "4fc9e4e3-fc86-4f83-b575-6b1a1becb905",
   "metadata": {},
   "outputs": [
    {
     "name": "stdout",
     "output_type": "stream",
     "text": [
      "<class 'pandas.core.frame.DataFrame'>\n",
      "RangeIndex: 200 entries, 0 to 199\n",
      "Data columns (total 7 columns):\n",
      " #   Column     Non-Null Count  Dtype  \n",
      "---  ------     --------------  -----  \n",
      " 0   TV         200 non-null    float64\n",
      " 1   radio      200 non-null    float64\n",
      " 2   newspaper  200 non-null    float64\n",
      " 3   sales      200 non-null    float64\n",
      " 4   tvradio    200 non-null    float64\n",
      " 5   newsradio  200 non-null    float64\n",
      " 6   tvnews     200 non-null    float64\n",
      "dtypes: float64(7)\n",
      "memory usage: 11.1 KB\n"
     ]
    }
   ],
   "source": [
    "df = df.drop(\"Unnamed: 0\", axis=1)\n",
    "df[\"tvradio\"] = df[\"TV\"] * df[\"radio\"]\n",
    "df[\"newsradio\"] = df[\"newspaper\"] * df[\"radio\"]\n",
    "df[\"tvnews\"] = df[\"TV\"] * df[\"newspaper\"]  \n",
    "df.info()"
   ]
  },
  {
   "cell_type": "code",
   "execution_count": 35,
   "id": "c1e349ae-4533-4eef-94a1-129e7385a447",
   "metadata": {},
   "outputs": [],
   "source": [
    "import numpy as np\n",
    "from sklearn.linear_model import LinearRegression\n",
    "from sklearn.metrics import r2_score\n",
    "\n",
    "def arbol_de_regresion_manual(df, y='sales', iteraciones=1000, sample_size=200, n_cols=4):\n",
    "\n",
    "    X = [col for col in df.columns if col != y]\n",
    "    y_preds = []\n",
    "    #r2_scores = []\n",
    "\n",
    "    for i in range(iteraciones):\n",
    "        seleccion = np.random.choice(X, size=n_cols, replace=False)\n",
    "        sample = np.random.choice(df.index, size=sample_size, replace=True)\n",
    "        X_sample = df.loc[sample, seleccion]\n",
    "        y_sample = df.loc[sample, y]\n",
    "        reg = LinearRegression()\n",
    "        reg.fit(X_sample, y_sample)\n",
    "        X_total = df[seleccion]\n",
    "        y_total = df[y]\n",
    "        y_pred = reg.predict(X_total)\n",
    "        #r2 = r2_score(y_total, y_pred)\n",
    "        #r2_scores.append(r2)\n",
    "        y_preds.append(y_pred)\n",
    "\n",
    "    return y_preds\n"
   ]
  },
  {
   "cell_type": "code",
   "execution_count": 36,
   "id": "7fd26317-9995-4e83-9592-cf80987a8bd1",
   "metadata": {},
   "outputs": [],
   "source": [
    "r2_list = arbol_de_regresion_manual(df, y='sales', iteraciones=1000, sample_size=200, n_cols=4)"
   ]
  },
  {
   "cell_type": "code",
   "execution_count": 38,
   "id": "c75d6d08-cdb7-4b77-ac1a-8ab9b51b1f4a",
   "metadata": {},
   "outputs": [],
   "source": [
    "y_preds = np.array(r2_list)"
   ]
  },
  {
   "cell_type": "code",
   "execution_count": 39,
   "id": "0b22c8a1-5003-4191-b008-84d7b9fafe83",
   "metadata": {},
   "outputs": [
    {
     "data": {
      "text/plain": [
       "(1000, 200)"
      ]
     },
     "execution_count": 39,
     "metadata": {},
     "output_type": "execute_result"
    }
   ],
   "source": [
    "y_preds.shape"
   ]
  },
  {
   "cell_type": "code",
   "execution_count": 40,
   "id": "2c5710ff-b0c4-41e7-bb07-0216acfe5956",
   "metadata": {},
   "outputs": [
    {
     "data": {
      "text/plain": [
       "(200,)"
      ]
     },
     "execution_count": 40,
     "metadata": {},
     "output_type": "execute_result"
    }
   ],
   "source": [
    "y_preds_mean = y_preds.mean(axis=0)\n",
    "y_preds_mean.shape"
   ]
  },
  {
   "cell_type": "code",
   "execution_count": 41,
   "id": "3b065460-6edf-4ede-9f21-0fb14a5abd2e",
   "metadata": {},
   "outputs": [
    {
     "data": {
      "text/plain": [
       "0.9606577226376467"
      ]
     },
     "execution_count": 41,
     "metadata": {},
     "output_type": "execute_result"
    }
   ],
   "source": [
    "r2_score(df[\"sales\"], y_preds_mean)"
   ]
  },
  {
   "cell_type": "code",
   "execution_count": null,
   "id": "dacaf3ff-acee-4a28-9543-140277d4bd46",
   "metadata": {},
   "outputs": [],
   "source": []
  }
 ],
 "metadata": {
  "kernelspec": {
   "display_name": "Python [conda env:base] *",
   "language": "python",
   "name": "conda-base-py"
  },
  "language_info": {
   "codemirror_mode": {
    "name": "ipython",
    "version": 3
   },
   "file_extension": ".py",
   "mimetype": "text/x-python",
   "name": "python",
   "nbconvert_exporter": "python",
   "pygments_lexer": "ipython3",
   "version": "3.12.7"
  }
 },
 "nbformat": 4,
 "nbformat_minor": 5
}
